{
 "cells": [
  {
   "cell_type": "code",
   "execution_count": 1,
   "metadata": {},
   "outputs": [],
   "source": [
    "import random\n",
    "from numba import jit\n",
    "import numpy as np\n",
    "import matplotlib.pyplot as plt\n",
    "import scipy.special as special \n",
    "import scipy.integrate as integrate"
   ]
  },
  {
   "cell_type": "code",
   "execution_count": 2,
   "metadata": {},
   "outputs": [],
   "source": [
    "@jit\n",
    "def func():\n",
    "    \n",
    "    N=400 #Number of particles\n",
    "    M=100000 #Number of samples\n",
    "\n",
    "    V = [] #A list where I save my random orientations\n",
    "    I1 = [] #An intermediate list where I save the cosines of the orientations\n",
    "    I2 = []\n",
    "    I3 = []\n",
    "    Q1list = []\n",
    "    Q2list = []\n",
    "    Q3list = []\n",
    "    Qlist = []\n",
    "\n",
    "    for j in range(M):    \n",
    "        for i in range(N):\n",
    "            phi = random.random()\n",
    "            theta = random.random()\n",
    "            \n",
    "            I1.append(np.cos(2*np.pi*phi)*np.sin(2*np.pi*theta)) \n",
    "            I2.append(np.sin(2*np.pi*phi)*np.sin(2*np.pi*theta)) \n",
    "            I3.append(np.cos(2*np.pi*theta))\n",
    "\n",
    "        \n",
    "        Q1 = (1/N)*sum(I1) \n",
    "        Q1list.append(Q1)\n",
    "        \n",
    "        Q2 = (1/N)*sum(I2) \n",
    "        Q2list.append(Q2)\n",
    "        \n",
    "        Q3 = (1/N)*sum(I3) \n",
    "        Q3list.append(Q3)\n",
    "\n",
    "        Q = np.sqrt(Q1*Q1 + Q2*Q2 + Q3*Q3) \n",
    "        Qlist.append(Q)\n",
    "\n",
    "        I1.clear()\n",
    "        I2.clear()\n",
    "        I3.clear()\n",
    "        \n",
    "    return Qlist"
   ]
  },
  {
   "cell_type": "code",
   "execution_count": 3,
   "metadata": {},
   "outputs": [],
   "source": [
    "Qlist = func()"
   ]
  },
  {
   "cell_type": "code",
   "execution_count": 4,
   "metadata": {},
   "outputs": [
    {
     "name": "stderr",
     "output_type": "stream",
     "text": [
      "C:\\ProgramData\\Anaconda3\\lib\\site-packages\\ipykernel_launcher.py:3: RuntimeWarning: divide by zero encountered in true_divide\n",
      "  This is separate from the ipykernel package so we can avoid doing imports until\n",
      "C:\\ProgramData\\Anaconda3\\lib\\site-packages\\ipykernel_launcher.py:3: RuntimeWarning: invalid value encountered in subtract\n",
      "  This is separate from the ipykernel package so we can avoid doing imports until\n"
     ]
    }
   ],
   "source": [
    "gamma = np.arange(0, 50, 0.0001)\n",
    "\n",
    "Q = np.cosh(gamma)/np.sinh(gamma) - 1/gamma"
   ]
  },
  {
   "cell_type": "code",
   "execution_count": 5,
   "metadata": {},
   "outputs": [
    {
     "data": {
      "image/png": "[encoded data removed]",
      "text/plain": [
       "<Figure size 432x288 with 1 Axes>"
      ]
     },
     "metadata": {},
     "output_type": "display_data"
    }
   ],
   "source": [
    "#plt.scatter(gamma, Q, label=r'$Q(\\gamma)$', color='red', s=10, marker='o')\n",
    "plt.scatter(Q, gamma, label='Equation of state - 3D uncorrelated XY', color='blue', s=10, marker='o')\n",
    "\n",
    "plt.xlim(0,1)\n",
    "plt.ylim(0,20)\n",
    "\n",
    "plt.xlabel(r'$ Q $', fontsize='20')\n",
    "plt.ylabel(r'$  \\gamma(Q) $', fontsize='20')\n",
    "plt.tick_params(labelsize=15)\n",
    "plt.legend(borderpad=1.2, labelspacing=1.2)\n",
    "plt.show()"
   ]
  },
  {
   "cell_type": "code",
   "execution_count": 6,
   "metadata": {},
   "outputs": [],
   "source": [
    "N = 400\n",
    "I = []\n",
    "r = len(Q)\n",
    "temp = 0.0\n",
    "for i in range(1, r-1): #Can't have i=0 because Q(x) = (exp(x) + exp(-x)) / (exp(x) - exp(-x)) - 1/x\n",
    "    temp += (gamma[i] + gamma[i+1])*(Q[i+1] - Q[i])/2\n",
    "    I.append(temp)\n",
    "\n",
    "r2 = r - 2 # Correct for the nan values of the Q vector\n",
    "Qprime = Q[-r2:] # Remove the nan values\n",
    "#print(len(Q))\n",
    "#print(Qprime)\n",
    "Inew = N*np.negative(I)\n",
    "Pvec = np.exp(Inew)\n",
    "Pmod = 4*np.pi*Qprime*Qprime*Pvec\n",
    "\n",
    "C = np.trapz(Pmod, Qprime)\n",
    "#print(C)\n",
    "Pnorm = (1/C) * Pmod"
   ]
  },
  {
   "cell_type": "code",
   "execution_count": 7,
   "metadata": {},
   "outputs": [],
   "source": [
    "# Exact answer \n",
    "\n",
    "N = 400\n",
    "exact=[]\n",
    "clt = []\n",
    "\n",
    "ran = np.arange(0,1,0.0001)\n",
    "\n",
    "for i in (ran):\n",
    "    def pexact(x):\n",
    "        return (2/np.pi)*(x*i)*np.sin(x*i)* ((N/x)*np.sin(x/N))**N \n",
    "    \n",
    "    a = integrate.quad(lambda x: pexact(x), 0, +1000, full_output=1)[0]\n",
    "    exact.append(a)    \n",
    "    \n",
    "# Clt from exact answer    \n",
    "\n",
    "for i in (ran):\n",
    "    def pclt(x):\n",
    "        return (2/np.pi)*(x*i)*np.sin(x*i)* np.exp(-(x*x)/(6*N))\n",
    "    \n",
    "    b = integrate.quad(lambda x: pclt(x), 0, +1000, full_output=1)[0]\n",
    "    clt.append(b) "
   ]
  },
  {
   "cell_type": "code",
   "execution_count": 8,
   "metadata": {},
   "outputs": [],
   "source": [
    "# Clt from Large deviation theory\n",
    "\n",
    "def cltldt(x):\n",
    "    return ((3*N/(2*np.pi))**(3/2))*4*np.pi*x*x*np.exp(-(3*N*x*x)/(2))"
   ]
  },
  {
   "cell_type": "code",
   "execution_count": 24,
   "metadata": {},
   "outputs": [],
   "source": [
    "# Large gamma probability density\n",
    "\n",
    "def largeldt(x):\n",
    "    return 4*np.pi*x*x*((1-x)**N)\n",
    "norm = integrate.quad(lambda x: largeldt(x), 0, +0.5, full_output=1)[0]\n",
    "def normlargeldt(x):\n",
    "    return (1/norm)*4*np.pi*x*x*((1-x)**N)\n",
    "\n",
    "\n",
    "def pade(x):\n",
    "    return 4*np.pi*x*x*np.exp(-N*(3*x - np.log(1-x) - 8*np.log(x+2) + 8*np.log(2)))\n",
    "padenorm = integrate.quad(lambda x: pade(x), 0, +0.5, full_output=1)[0]\n",
    "def npade(x):\n",
    "    return (1/padenorm)*pade(x)"
   ]
  },
  {
   "cell_type": "code",
   "execution_count": 25,
   "metadata": {},
   "outputs": [
    {
     "data": {
      "image/png": "[encoded data removed]",
      "text/plain": [
       "<Figure size 432x288 with 1 Axes>"
      ]
     },
     "metadata": {},
     "output_type": "display_data"
    }
   ],
   "source": [
    "Rho, bins, patches = plt.hist(Qlist, bins=140, align=\"left\", density=True) \n",
    "plt.clf()\n",
    "step = (bins[140] - bins[0])/140\n",
    "t = np.arange(bins[0], bins[140], step)\n",
    "\n",
    "#UPro = []\n",
    "#for i in range(k-1): # Unnormalized Probability distribution array has size k-1\n",
    "#    temp = (1/ (2*np.pi*t[i]) ) * Rho[i]\n",
    "#    UPro.append(temp)\n",
    "    \n",
    "#tprime = t[:-1]\n",
    "#simp = integrate.simps(UPro,Qprime) # Gives same answer as my algorithm\n",
    "#NPro = UPro/letsee\n",
    "#ExactRate = -(1/N)*np.log(NPro)\n",
    "\n",
    "ran = np.arange(0,1,0.001)\n",
    "#plt.plot(ran, exact, color='green', lw=3, label='Exact solution')\n",
    "#plt.plot(ran, clt, color='black', lw=3, label='Central limit theorem from exact answer')\n",
    "#plt.plot(ran, cltldt(ran), color='black', lw=3, label='Central limit theorem from LDT')\n",
    "plt.plot(ran, normlargeldt(ran), color='black', lw=3, label='Large field density from LDT')\n",
    "#plt.plot(ran, npade(ran), color='black', lw=3, label='Pade approximation')\n",
    "plt.scatter(t, Rho, label='3D random flight simulation', color='red', s=10, marker='o')\n",
    "#plt.scatter(Qprime, Pnorm, color='blue', s=1, label='Large Deviations Theory')\n",
    "\n",
    "plt.xlim(0,0.22)\n",
    "#plt.ylim(0,22)\n",
    "plt.xlabel(r'$ Q $', fontsize='20')\n",
    "plt.ylabel(r'$  P(Q) $', fontsize='20')\n",
    "plt.tick_params(labelsize=15)\n",
    "plt.legend(loc='upper right')\n",
    "plt.show()"
   ]
  },
  {
   "cell_type": "code",
   "execution_count": null,
   "metadata": {},
   "outputs": [],
   "source": []
  }
 ],
 "metadata": {
  "kernelspec": {
   "display_name": "Python 3 (ipykernel)",
   "language": "python",
   "name": "python3"
  },
  "language_info": {
   "codemirror_mode": {
    "name": "ipython",
    "version": 3
   },
   "file_extension": ".py",
   "mimetype": "text/x-python",
   "name": "python",
   "nbconvert_exporter": "python",
   "pygments_lexer": "ipython3",
   "version": "3.7.5"
  }
 },
 "nbformat": 4,
 "nbformat_minor": 2
}
